{
  "cells": [
    {
      "cell_type": "markdown",
      "metadata": {
        "id": "view-in-github",
        "colab_type": "text"
      },
      "source": [
        "<a href=\"https://colab.research.google.com/github/JohnWickKeanue/Shourturl-bypass/blob/main/Welcome_To_Colaboratory.ipynb\" target=\"_parent\"><img src=\"https://colab.research.google.com/assets/colab-badge.svg\" alt=\"Open In Colab\"/></a>"
      ]
    },
    {
      "cell_type": "code",
      "source": [
        "! pip install cloudscraper\n",
        "import time\n",
        "import cloudscraper\n",
        "from bs4 import BeautifulSoup \n",
        "\n",
        "\n",
        "url = \"https://urlsopen.com/ZuKH\"  #@param {type:\"string\"}\n",
        "\n",
        "\n",
        "# leech with credits broo\n",
        "# ---------------------------------------------------------------------------------------------------------------------\n",
        "\n",
        "def shourturl(url):\n",
        "    \n",
        "    client = cloudscraper.create_scraper(allow_brotli=False)\n",
        "    \n",
        "    \n",
        "    DOMAIN = \"https://short.url2go.in/RJOVAq30CU7lINo9AwG4oT3eISn7\"\n",
        "\n",
        "    url = url[:-1] if url[-1] == '/' else url\n",
        "\n",
        "    code = url.split(\"/\")[-1]\n",
        "    \n",
        "    final_url = f\"{DOMAIN}/{code}\"\n",
        "    \n",
        "    ref = \"https://blog.textpage.xyz/\"\n",
        "    \n",
        "    h = {\"referer\": ref}\n",
        "  \n",
        "    resp = client.get(final_url,headers=h)\n",
        "    \n",
        "    soup = BeautifulSoup(resp.content, \"html.parser\")\n",
        "    \n",
        "    inputs = soup.find_all(\"input\")\n",
        "   \n",
        "    data = { input.get('name'): input.get('value') for input in inputs }\n",
        "\n",
        "    h = { \"x-requested-with\": \"XMLHttpRequest\" }\n",
        "    \n",
        "    time.sleep(0.5)\n",
        "    r = client.post(f\"{DOMAIN}/links/go\", data=data, headers=h)\n",
        "    try:\n",
        "        return r.json()['url']\n",
        "    except: return \"Something went wrong :(\"\n",
        "    \n",
        "# ---------------------------------------------------------------------------------------------------------------------\n",
        "print(shourturl(url))"
      ],
      "metadata": {
        "id": "5qRqIFiI_efM"
      },
      "execution_count": null,
      "outputs": []
    }
  ],
  "metadata": {
    "colab": {
      "name": "Welcome To Colaboratory",
      "provenance": [],
      "include_colab_link": true
    },
    "kernelspec": {
      "display_name": "Python 3",
      "name": "python3"
    }
  },
  "nbformat": 4,
  "nbformat_minor": 0
}