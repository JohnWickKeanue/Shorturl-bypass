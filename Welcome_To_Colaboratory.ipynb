{
  "cells": [
    {
      "cell_type": "markdown",
      "metadata": {
        "id": "view-in-github",
        "colab_type": "text"
      },
      "source": [
        "<a href=\"https://colab.research.google.com/github/JohnWickKeanue/Shorturl-bypass/blob/main/Welcome_To_Colaboratory.ipynb\" target=\"_parent\"><img src=\"https://colab.research.google.com/assets/colab-badge.svg\" alt=\"Open In Colab\"/></a>"
      ]
    },
    {
      "cell_type": "code",
      "source": [
        "! pip install cloudscraper\n",
        "import time\n",
        "import cloudscraper\n",
        "from bs4 import BeautifulSoup \n",
        "import requests\n",
        "\n",
        "url = \"https://urlsopen.com/dSjP\"  #@param {type:\"string\"}\n",
        "\n",
        "\n",
        "# leech with credits broo\n",
        "# ---------------------------------------------------------------------------------------------------------------------\n",
        "\n",
        "def shourturl(url):\n",
        "    \n",
        "    client = cloudscraper.create_scraper(allow_brotli=False)\n",
        "    \n",
        "    \n",
        "    DOMAIN = \"https://blogpost.viewboonposts.com/e893f1f665f5e75f2d1ae009e0063ed66f89\"\n",
        "\n",
        "    url = url[:-1] if url[-1] == '/' else url\n",
        "\n",
        "    code = url.split(\"/\")[-1]\n",
        "    \n",
        "    final_url = f\"{DOMAIN}/{code}\"\n",
        "    \n",
        "    ref = \"https://blog.textpage.xyz/\"\n",
        "    \n",
        "    h = {\"referer\": ref}\n",
        "  \n",
        "    resp = client.get(final_url,headers=h).text\n",
        "   \n",
        "    soup = BeautifulSoup(resp, \"html.parser\")\n",
        "    \n",
        "    inputs = soup.find_all(\"input\")\n",
        "   \n",
        "    data = { input.get('name'): input.get('value') for input in inputs }\n",
        "\n",
        "    h = { \"x-requested-with\": \"XMLHttpRequest\" }\n",
        "    time.sleep(2)\n",
        "    r = client.post(f\"{DOMAIN}/links/go\", data=data, headers=h)\n",
        "    try:\n",
        "        c = r.json()['url']\n",
        "        return c\n",
        "    except: return \"Something went wrong :(\"\n",
        "    \n",
        "# ---------------------------------------------------------------------------------------------------------------------\n",
        "print(shourturl(url))"
      ],
      "metadata": {
        "id": "5qRqIFiI_efM",
        "colab": {
          "base_uri": "https://localhost:8080/"
        },
        "outputId": "434884d2-58ba-4275-f093-dd2206f50096"
      },
      "execution_count": 1,
      "outputs": [
        {
          "output_type": "stream",
          "name": "stdout",
          "text": [
            "Looking in indexes: https://pypi.org/simple, https://us-python.pkg.dev/colab-wheels/public/simple/\n",
            "Collecting cloudscraper\n",
            "  Downloading cloudscraper-1.2.69-py2.py3-none-any.whl (99 kB)\n",
            "\u001b[2K     \u001b[90m━━━━━━━━━━━━━━━━━━━━━━━━━━━━━━━━━━━━━━━━\u001b[0m \u001b[32m99.7/99.7 kB\u001b[0m \u001b[31m1.8 MB/s\u001b[0m eta \u001b[36m0:00:00\u001b[0m\n",
            "\u001b[?25hRequirement already satisfied: requests>=2.9.2 in /usr/local/lib/python3.9/dist-packages (from cloudscraper) (2.27.1)\n",
            "Requirement already satisfied: pyparsing>=2.4.7 in /usr/local/lib/python3.9/dist-packages (from cloudscraper) (3.0.9)\n",
            "Collecting requests-toolbelt>=0.9.1\n",
            "  Downloading requests_toolbelt-0.10.1-py2.py3-none-any.whl (54 kB)\n",
            "\u001b[2K     \u001b[90m━━━━━━━━━━━━━━━━━━━━━━━━━━━━━━━━━━━━━━━━\u001b[0m \u001b[32m54.5/54.5 kB\u001b[0m \u001b[31m4.0 MB/s\u001b[0m eta \u001b[36m0:00:00\u001b[0m\n",
            "\u001b[?25hRequirement already satisfied: certifi>=2017.4.17 in /usr/local/lib/python3.9/dist-packages (from requests>=2.9.2->cloudscraper) (2022.12.7)\n",
            "Requirement already satisfied: urllib3<1.27,>=1.21.1 in /usr/local/lib/python3.9/dist-packages (from requests>=2.9.2->cloudscraper) (1.26.15)\n",
            "Requirement already satisfied: idna<4,>=2.5 in /usr/local/lib/python3.9/dist-packages (from requests>=2.9.2->cloudscraper) (3.4)\n",
            "Requirement already satisfied: charset-normalizer~=2.0.0 in /usr/local/lib/python3.9/dist-packages (from requests>=2.9.2->cloudscraper) (2.0.12)\n",
            "Installing collected packages: requests-toolbelt, cloudscraper\n",
            "Successfully installed cloudscraper-1.2.69 requests-toolbelt-0.10.1\n",
            "https://s.viewboonposts.com/sul_MTExMzc2OA==\n"
          ]
        }
      ]
    }
  ],
  "metadata": {
    "colab": {
      "name": "Welcome To Colaboratory",
      "provenance": [],
      "include_colab_link": true
    },
    "kernelspec": {
      "display_name": "Python 3",
      "name": "python3"
    }
  },
  "nbformat": 4,
  "nbformat_minor": 0
}